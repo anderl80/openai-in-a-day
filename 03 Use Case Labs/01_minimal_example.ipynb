{
 "cells": [
  {
   "attachments": {},
   "cell_type": "markdown",
   "metadata": {},
   "source": [
    "When authenticating using Azure AD, open a terminal and run the following command: `az login`"
   ]
  },
  {
   "cell_type": "code",
   "execution_count": null,
   "metadata": {},
   "outputs": [],
   "source": [
    "from azure.identity import DefaultAzureCredential\n",
    "import openai\n",
    "import os\n",
    "from dotenv import load_dotenv, find_dotenv\n",
    "\n",
    "# Load environment variables\n",
    "load_dotenv(find_dotenv(\"credentials.env\"))\n",
    "\n",
    "# Option 1 - Use Azure AD authentication with az cli (use az login in terminal)\n",
    "default_credential = DefaultAzureCredential()\n",
    "token = default_credential.get_token(\"https://cognitiveservices.azure.com/.default\")\n",
    "openai.api_type = \"azure_ad\"\n",
    "openai.api_base = os.environ.get(\"AOAI_ENDPOINT\")\n",
    "openai.api_key = token.token\n",
    "openai.api_version = \"2022-12-01\"\n",
    "\n",
    "# Option 2 - Using Access Key\n",
    "# openai.api_type = \"azure\"\n",
    "# openai.api_base = os.environ.get(\"AOAI_ENDPOINT\")\n",
    "# openai.api_key = os.environ.get(\"AOAI_KEY\")\n",
    "# openai.api_version = \"2022-12-01\""
   ]
  },
  {
   "cell_type": "code",
   "execution_count": null,
   "metadata": {},
   "outputs": [],
   "source": [
    "response = openai.Completion.create(engine=\"text-davinci-003\",\n",
    "                                    prompt=\"Knock knock.\",\n",
    "                                    temperature=0)\n",
    "print(response.choices[0].text)"
   ]
  }
 ],
 "metadata": {
  "kernelspec": {
   "display_name": "Python 3",
   "language": "python",
   "name": "python3"
  },
  "language_info": {
   "codemirror_mode": {
    "name": "ipython",
    "version": 3
   },
   "file_extension": ".py",
   "mimetype": "text/x-python",
   "name": "python",
   "nbconvert_exporter": "python",
   "pygments_lexer": "ipython3",
   "version": "3.9.2"
  },
  "orig_nbformat": 4,
  "vscode": {
   "interpreter": {
    "hash": "eb4a0ac80907d7f44e1a5e88d3d3381b33e3dbedd3a24d113e876f30a0c46bee"
   }
  }
 },
 "nbformat": 4,
 "nbformat_minor": 2
}
