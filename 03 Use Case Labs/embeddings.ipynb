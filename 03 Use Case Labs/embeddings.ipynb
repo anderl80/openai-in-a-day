{
 "cells": [
  {
   "attachments": {},
   "cell_type": "markdown",
   "metadata": {},
   "source": [
    "There is this example in the AI Rangers workshop that is pretty comparable to our docs:\n",
    "1. [AI Rangers](https://github.com/Azure/azure-openai-workshop/blob/main/Labs/Clustering-and-Embedding/Lab-clustering-embeddings-themes.ipynb)\n",
    "2. [Embeddings example in the documentation](https://learn.microsoft.com/en-us/azure/cognitive-services/openai/tutorials/embeddings?tabs=command-line)\n",
    "\n",
    "Those examples use different datasets.\n",
    "\n",
    "1. The AI Rangers example uses the [CNN Daily Mail](https://huggingface.co/datasets/cnn_dailymail) dataset which is a collection of 300,000 news articles.\n",
    "2. The documentation example uses the [billsum dataset](https://github.com/FiscalNote/BillSum) which is a collection of 1,000 summaries of congressional bills.\n",
    "\n",
    "Then there is the [OpenAI cookbook](https://github.com/openai/openai-cookbook) examples:\n",
    "\n"
   ]
  },
  {
   "cell_type": "markdown",
   "metadata": {},
   "source": []
  },
  {
   "attachments": {},
   "cell_type": "markdown",
   "metadata": {},
   "source": [
    "# Embeddings\n",
    "\n",
    "In the previous labs in the morning we focused on prompt engineering examples in the Azure OpenAI studio. Now, let's take a look at how we can use the embeddings from the Azure OpenAI service to create a knowledge base. This time we won't use the Azure OpenAI studio, but the Azure OpenAI SDK."
   ]
  },
  {
   "cell_type": "code",
   "execution_count": null,
   "metadata": {},
   "outputs": [],
   "source": []
  }
 ],
 "metadata": {
  "kernelspec": {
   "display_name": "Python 3",
   "language": "python",
   "name": "python3"
  },
  "language_info": {
   "codemirror_mode": {
    "name": "ipython",
    "version": 3
   },
   "file_extension": ".py",
   "mimetype": "text/x-python",
   "name": "python",
   "nbconvert_exporter": "python",
   "pygments_lexer": "ipython3",
   "version": "3.9.2"
  },
  "orig_nbformat": 4,
  "vscode": {
   "interpreter": {
    "hash": "eb4a0ac80907d7f44e1a5e88d3d3381b33e3dbedd3a24d113e876f30a0c46bee"
   }
  }
 },
 "nbformat": 4,
 "nbformat_minor": 2
}
